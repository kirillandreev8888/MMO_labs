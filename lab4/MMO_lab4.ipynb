{
  "nbformat": 4,
  "nbformat_minor": 0,
  "metadata": {
    "colab": {
      "name": "MMO lab4.ipynb",
      "provenance": [],
      "collapsed_sections": [
        "-CMl3hj4Rdmx",
        "dOPmyF_0Rr3N",
        "ncY67izXR4lB"
      ]
    },
    "kernelspec": {
      "name": "python3",
      "display_name": "Python 3"
    }
  },
  "cells": [
    {
      "cell_type": "markdown",
      "metadata": {
        "id": "hS5v3gfqQopJ",
        "colab_type": "text"
      },
      "source": [
        "# 1. Цель лабораторной работы"
      ]
    },
    {
      "cell_type": "markdown",
      "metadata": {
        "id": "FM8I06VZQqH9",
        "colab_type": "text"
      },
      "source": [
        "Изучить сложные способы подготовки выборки и подбора гиперпараметров на примере метода ближайших соседей"
      ]
    },
    {
      "cell_type": "markdown",
      "metadata": {
        "id": "n2cwFX4kQszI",
        "colab_type": "text"
      },
      "source": [
        "# 2. Задание"
      ]
    },
    {
      "cell_type": "markdown",
      "metadata": {
        "id": "T7UN8BnpQtyW",
        "colab_type": "text"
      },
      "source": [
        "1. Выберите набор данных (датасет) для решения задачи классификации или регресии.\n",
        "2. В случае необходимости проведите удаление или заполнение пропусков и кодирование категориальных признаков.\n",
        "3. С использованием метода train_test_split разделите выборку на обучающую и тестовую.\n",
        "4. Обучите модель ближайших соседей для произвольно заданного гиперпараметра K. Оцените качество модели с помощью трех подходящих для задачи метрик.\n",
        "5. Постройте модель и оцените качество модели с использованием кросс-валидации. Проведите эксперименты с тремя различными стратегиями кросс-валидации.\n",
        "6. Произведите подбор гиперпараметра K с использованием GridSearchCV и кросс-валидации.\n",
        "7. Повторите пункт 4 для найденного оптимального значения гиперпараметра K. Сравните качество полученной модели с качеством модели, полученной в пункте 4.\n",
        "8. Постройте кривые обучения и валидации."
      ]
    },
    {
      "cell_type": "markdown",
      "metadata": {
        "id": "215InIt4QvET",
        "colab_type": "text"
      },
      "source": [
        "# 3. Ход выполнения работы"
      ]
    },
    {
      "cell_type": "code",
      "metadata": {
        "id": "btGjpdyDQibJ",
        "colab_type": "code",
        "colab": {}
      },
      "source": [
        "from google.colab import files\n",
        "\n",
        "from datetime import datetime\n",
        "import matplotlib.pyplot as plt\n",
        "import numpy as np\n",
        "import pandas as pd\n",
        "from sklearn.metrics import mean_absolute_error\n",
        "from sklearn.metrics import median_absolute_error, r2_score\n",
        "from sklearn.model_selection import GridSearchCV\n",
        "from sklearn.model_selection import KFold, RepeatedKFold, ShuffleSplit\n",
        "from sklearn.model_selection import cross_val_score, train_test_split\n",
        "from sklearn.model_selection import learning_curve, validation_curve\n",
        "from sklearn.neighbors import KNeighborsRegressor\n",
        "from sklearn.preprocessing import StandardScaler\n",
        "\n",
        "# Enable inline plots\n",
        "%matplotlib inline\n",
        "\n",
        "# Set plots formats to save high resolution PNG\n",
        "from IPython.display import set_matplotlib_formats\n",
        "set_matplotlib_formats(\"retina\")"
      ],
      "execution_count": 0,
      "outputs": []
    },
    {
      "cell_type": "code",
      "metadata": {
        "id": "v085ha3EQ1B6",
        "colab_type": "code",
        "outputId": "983c4cc4-68ff-4502-e9f3-b5d8d4b45919",
        "colab": {
          "resources": {
            "http://localhost:8080/nbextensions/google.colab/files.js": {
              "data": "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",
              "ok": true,
              "headers": [
                [
                  "content-type",
                  "application/javascript"
                ]
              ],
              "status": 200,
              "status_text": ""
            }
          },
          "base_uri": "https://localhost:8080/",
          "height": 91
        }
      },
      "source": [
        "uploaded = files.upload()\n",
        "\n",
        "for fn in uploaded.keys():\n",
        "  print('User uploaded file \"{name}\" with length {length} bytes'.format(\n",
        "      name=fn, length=len(uploaded[fn])))"
      ],
      "execution_count": 0,
      "outputs": [
        {
          "output_type": "display_data",
          "data": {
            "text/html": [
              "\n",
              "     <input type=\"file\" id=\"files-b1738b70-5526-43f9-915b-8d78d392c366\" name=\"files[]\" multiple disabled />\n",
              "     <output id=\"result-b1738b70-5526-43f9-915b-8d78d392c366\">\n",
              "      Upload widget is only available when the cell has been executed in the\n",
              "      current browser session. Please rerun this cell to enable.\n",
              "      </output>\n",
              "      <script src=\"/nbextensions/google.colab/files.js\"></script> "
            ],
            "text/plain": [
              "<IPython.core.display.HTML object>"
            ]
          },
          "metadata": {
            "tags": []
          }
        },
        {
          "output_type": "stream",
          "text": [
            "Saving covid19-russia-cases.csv to covid19-russia-cases (1).csv\n",
            "User uploaded file \"covid19-russia-cases.csv\" with length 281785 bytes\n"
          ],
          "name": "stdout"
        }
      ]
    },
    {
      "cell_type": "markdown",
      "metadata": {
        "id": "rI9c692BQ3nG",
        "colab_type": "text"
      },
      "source": [
        "## Предварительная подготовка данных"
      ]
    },
    {
      "cell_type": "markdown",
      "metadata": {
        "id": "JRMzhJHeQ4d1",
        "colab_type": "text"
      },
      "source": [
        "Датасет - COVID-19 Russia regions cases. COVID-19 virus (coronavirus) has been starting to spread inside of Russia. This is important to investigate and understand the spreading from a very low level. The world-level data is representing Russia virus cases as a single point. But Russia is a very huge and heterogeneous country. For better analyze we have to consider Russia infection cases distributed by region. So this is a dataset of regions distributed COVID-19 virus inside of Russia."
      ]
    },
    {
      "cell_type": "code",
      "metadata": {
        "id": "_TtwwBRmQ5qe",
        "colab_type": "code",
        "colab": {}
      },
      "source": [
        "data = pd.read_csv(\"covid19-russia-cases.csv\", delimiter=';')"
      ],
      "execution_count": 0,
      "outputs": []
    },
    {
      "cell_type": "markdown",
      "metadata": {
        "id": "_sdohT97Q6rI",
        "colab_type": "text"
      },
      "source": [
        "Верхушка данных и типы"
      ]
    },
    {
      "cell_type": "code",
      "metadata": {
        "id": "zbdi4cORQ9hA",
        "colab_type": "code",
        "outputId": "6854ffb0-93c9-4b7b-b72b-ba72907835c6",
        "colab": {
          "base_uri": "https://localhost:8080/",
          "height": 204
        }
      },
      "source": [
        "data.head(5)"
      ],
      "execution_count": 0,
      "outputs": [
        {
          "output_type": "execute_result",
          "data": {
            "text/html": [
              "<div>\n",
              "<style scoped>\n",
              "    .dataframe tbody tr th:only-of-type {\n",
              "        vertical-align: middle;\n",
              "    }\n",
              "\n",
              "    .dataframe tbody tr th {\n",
              "        vertical-align: top;\n",
              "    }\n",
              "\n",
              "    .dataframe thead th {\n",
              "        text-align: right;\n",
              "    }\n",
              "</style>\n",
              "<table border=\"1\" class=\"dataframe\">\n",
              "  <thead>\n",
              "    <tr style=\"text-align: right;\">\n",
              "      <th></th>\n",
              "      <th>Date</th>\n",
              "      <th>Region/City-Eng</th>\n",
              "      <th>Region_ID</th>\n",
              "      <th>Day-Confirmed</th>\n",
              "      <th>Day-Deaths</th>\n",
              "      <th>Day-Recovered</th>\n",
              "      <th>Confirmed</th>\n",
              "      <th>Deaths</th>\n",
              "      <th>Recovered</th>\n",
              "    </tr>\n",
              "  </thead>\n",
              "  <tbody>\n",
              "    <tr>\n",
              "      <th>0</th>\n",
              "      <td>26.01.2020</td>\n",
              "      <td>Diamond Princess</td>\n",
              "      <td>NaN</td>\n",
              "      <td>3.0</td>\n",
              "      <td>0.0</td>\n",
              "      <td>0.0</td>\n",
              "      <td>3.0</td>\n",
              "      <td>0.0</td>\n",
              "      <td>0.0</td>\n",
              "    </tr>\n",
              "    <tr>\n",
              "      <th>1</th>\n",
              "      <td>31.01.2020</td>\n",
              "      <td>Tyumen region</td>\n",
              "      <td>72.0</td>\n",
              "      <td>1.0</td>\n",
              "      <td>0.0</td>\n",
              "      <td>0.0</td>\n",
              "      <td>1.0</td>\n",
              "      <td>0.0</td>\n",
              "      <td>0.0</td>\n",
              "    </tr>\n",
              "    <tr>\n",
              "      <th>2</th>\n",
              "      <td>31.01.2020</td>\n",
              "      <td>Zabaykalsky Krai</td>\n",
              "      <td>75.0</td>\n",
              "      <td>1.0</td>\n",
              "      <td>0.0</td>\n",
              "      <td>0.0</td>\n",
              "      <td>1.0</td>\n",
              "      <td>0.0</td>\n",
              "      <td>0.0</td>\n",
              "    </tr>\n",
              "    <tr>\n",
              "      <th>3</th>\n",
              "      <td>12.02.2020</td>\n",
              "      <td>Tyumen region</td>\n",
              "      <td>72.0</td>\n",
              "      <td>0.0</td>\n",
              "      <td>0.0</td>\n",
              "      <td>1.0</td>\n",
              "      <td>1.0</td>\n",
              "      <td>0.0</td>\n",
              "      <td>1.0</td>\n",
              "    </tr>\n",
              "    <tr>\n",
              "      <th>4</th>\n",
              "      <td>12.02.2020</td>\n",
              "      <td>Zabaykalsky Krai</td>\n",
              "      <td>75.0</td>\n",
              "      <td>0.0</td>\n",
              "      <td>0.0</td>\n",
              "      <td>1.0</td>\n",
              "      <td>1.0</td>\n",
              "      <td>0.0</td>\n",
              "      <td>1.0</td>\n",
              "    </tr>\n",
              "  </tbody>\n",
              "</table>\n",
              "</div>"
            ],
            "text/plain": [
              "         Date   Region/City-Eng  Region_ID  ...  Confirmed  Deaths  Recovered\n",
              "0  26.01.2020  Diamond Princess        NaN  ...        3.0     0.0        0.0\n",
              "1  31.01.2020     Tyumen region       72.0  ...        1.0     0.0        0.0\n",
              "2  31.01.2020  Zabaykalsky Krai       75.0  ...        1.0     0.0        0.0\n",
              "3  12.02.2020     Tyumen region       72.0  ...        1.0     0.0        1.0\n",
              "4  12.02.2020  Zabaykalsky Krai       75.0  ...        1.0     0.0        1.0\n",
              "\n",
              "[5 rows x 9 columns]"
            ]
          },
          "metadata": {
            "tags": []
          },
          "execution_count": 5
        }
      ]
    },
    {
      "cell_type": "code",
      "metadata": {
        "id": "0mfbIanQQ0Eb",
        "colab_type": "code",
        "outputId": "e84a5f45-eeaf-4cff-e0c0-eac60be24f07",
        "colab": {
          "base_uri": "https://localhost:8080/",
          "height": 187
        }
      },
      "source": [
        "data.dtypes"
      ],
      "execution_count": 0,
      "outputs": [
        {
          "output_type": "execute_result",
          "data": {
            "text/plain": [
              "Date                object\n",
              "Region/City-Eng     object\n",
              "Region_ID          float64\n",
              "Day-Confirmed      float64\n",
              "Day-Deaths         float64\n",
              "Day-Recovered      float64\n",
              "Confirmed          float64\n",
              "Deaths             float64\n",
              "Recovered          float64\n",
              "dtype: object"
            ]
          },
          "metadata": {
            "tags": []
          },
          "execution_count": 6
        }
      ]
    },
    {
      "cell_type": "code",
      "metadata": {
        "id": "R6gx6qcSQ_WO",
        "colab_type": "code",
        "outputId": "96d0b59c-e160-4d21-af72-89dfb8102763",
        "colab": {
          "base_uri": "https://localhost:8080/",
          "height": 187
        }
      },
      "source": [
        "data.isnull().sum()"
      ],
      "execution_count": 0,
      "outputs": [
        {
          "output_type": "execute_result",
          "data": {
            "text/plain": [
              "Date               0\n",
              "Region/City-Eng    0\n",
              "Region_ID          2\n",
              "Day-Confirmed      0\n",
              "Day-Deaths         0\n",
              "Day-Recovered      0\n",
              "Confirmed          0\n",
              "Deaths             0\n",
              "Recovered          0\n",
              "dtype: int64"
            ]
          },
          "metadata": {
            "tags": []
          },
          "execution_count": 7
        }
      ]
    },
    {
      "cell_type": "markdown",
      "metadata": {
        "id": "NXNZHxsWRRqQ",
        "colab_type": "text"
      },
      "source": [
        "Уберем столбец с названиями и реобразуем дату в соответствующий временной формат:"
      ]
    },
    {
      "cell_type": "code",
      "metadata": {
        "id": "Lvcd_Cz8RSqY",
        "colab_type": "code",
        "colab": {}
      },
      "source": [
        "df = data.copy()\n",
        "\n",
        "df[\"Date\"] = pd.to_datetime(df[\"Date\"]).astype(np.int64)/1000000\n",
        "\n",
        "df = df.drop([\"Region/City-Eng\"], axis=1)\n",
        "\n",
        "df[\"Region_ID\"] =df[\"Region_ID\"].fillna(method='ffill')\n",
        "\n",
        "df=df.dropna()"
      ],
      "execution_count": 0,
      "outputs": []
    },
    {
      "cell_type": "code",
      "metadata": {
        "id": "0GyUmIDDRTj7",
        "colab_type": "code",
        "outputId": "bb729fe3-3829-4ccb-a679-8f48da526e92",
        "colab": {
          "base_uri": "https://localhost:8080/",
          "height": 204
        }
      },
      "source": [
        "df.head(5)"
      ],
      "execution_count": 0,
      "outputs": [
        {
          "output_type": "execute_result",
          "data": {
            "text/html": [
              "<div>\n",
              "<style scoped>\n",
              "    .dataframe tbody tr th:only-of-type {\n",
              "        vertical-align: middle;\n",
              "    }\n",
              "\n",
              "    .dataframe tbody tr th {\n",
              "        vertical-align: top;\n",
              "    }\n",
              "\n",
              "    .dataframe thead th {\n",
              "        text-align: right;\n",
              "    }\n",
              "</style>\n",
              "<table border=\"1\" class=\"dataframe\">\n",
              "  <thead>\n",
              "    <tr style=\"text-align: right;\">\n",
              "      <th></th>\n",
              "      <th>Date</th>\n",
              "      <th>Region_ID</th>\n",
              "      <th>Day-Confirmed</th>\n",
              "      <th>Day-Deaths</th>\n",
              "      <th>Day-Recovered</th>\n",
              "      <th>Confirmed</th>\n",
              "      <th>Deaths</th>\n",
              "      <th>Recovered</th>\n",
              "    </tr>\n",
              "  </thead>\n",
              "  <tbody>\n",
              "    <tr>\n",
              "      <th>1</th>\n",
              "      <td>1.580429e+12</td>\n",
              "      <td>72.0</td>\n",
              "      <td>1.0</td>\n",
              "      <td>0.0</td>\n",
              "      <td>0.0</td>\n",
              "      <td>1.0</td>\n",
              "      <td>0.0</td>\n",
              "      <td>0.0</td>\n",
              "    </tr>\n",
              "    <tr>\n",
              "      <th>2</th>\n",
              "      <td>1.580429e+12</td>\n",
              "      <td>75.0</td>\n",
              "      <td>1.0</td>\n",
              "      <td>0.0</td>\n",
              "      <td>0.0</td>\n",
              "      <td>1.0</td>\n",
              "      <td>0.0</td>\n",
              "      <td>0.0</td>\n",
              "    </tr>\n",
              "    <tr>\n",
              "      <th>3</th>\n",
              "      <td>1.606867e+12</td>\n",
              "      <td>72.0</td>\n",
              "      <td>0.0</td>\n",
              "      <td>0.0</td>\n",
              "      <td>1.0</td>\n",
              "      <td>1.0</td>\n",
              "      <td>0.0</td>\n",
              "      <td>1.0</td>\n",
              "    </tr>\n",
              "    <tr>\n",
              "      <th>4</th>\n",
              "      <td>1.606867e+12</td>\n",
              "      <td>75.0</td>\n",
              "      <td>0.0</td>\n",
              "      <td>0.0</td>\n",
              "      <td>1.0</td>\n",
              "      <td>1.0</td>\n",
              "      <td>0.0</td>\n",
              "      <td>1.0</td>\n",
              "    </tr>\n",
              "    <tr>\n",
              "      <th>5</th>\n",
              "      <td>1.583107e+12</td>\n",
              "      <td>50.0</td>\n",
              "      <td>1.0</td>\n",
              "      <td>0.0</td>\n",
              "      <td>0.0</td>\n",
              "      <td>1.0</td>\n",
              "      <td>0.0</td>\n",
              "      <td>0.0</td>\n",
              "    </tr>\n",
              "  </tbody>\n",
              "</table>\n",
              "</div>"
            ],
            "text/plain": [
              "           Date  Region_ID  Day-Confirmed  ...  Confirmed  Deaths  Recovered\n",
              "1  1.580429e+12       72.0            1.0  ...        1.0     0.0        0.0\n",
              "2  1.580429e+12       75.0            1.0  ...        1.0     0.0        0.0\n",
              "3  1.606867e+12       72.0            0.0  ...        1.0     0.0        1.0\n",
              "4  1.606867e+12       75.0            0.0  ...        1.0     0.0        1.0\n",
              "5  1.583107e+12       50.0            1.0  ...        1.0     0.0        0.0\n",
              "\n",
              "[5 rows x 8 columns]"
            ]
          },
          "metadata": {
            "tags": []
          },
          "execution_count": 9
        }
      ]
    },
    {
      "cell_type": "code",
      "metadata": {
        "id": "29VDEwmiRUpQ",
        "colab_type": "code",
        "outputId": "1bb0ac73-17d5-44cd-ef5f-066faa8c4b9a",
        "colab": {
          "base_uri": "https://localhost:8080/",
          "height": 170
        }
      },
      "source": [
        "df.dtypes"
      ],
      "execution_count": 0,
      "outputs": [
        {
          "output_type": "execute_result",
          "data": {
            "text/plain": [
              "Date             float64\n",
              "Region_ID        float64\n",
              "Day-Confirmed    float64\n",
              "Day-Deaths       float64\n",
              "Day-Recovered    float64\n",
              "Confirmed        float64\n",
              "Deaths           float64\n",
              "Recovered        float64\n",
              "dtype: object"
            ]
          },
          "metadata": {
            "tags": []
          },
          "execution_count": 10
        }
      ]
    },
    {
      "cell_type": "code",
      "metadata": {
        "id": "teRYU4s0RV1N",
        "colab_type": "code",
        "outputId": "7e071e79-2dc7-4d41-c980-e9c6216ce9d0",
        "colab": {
          "base_uri": "https://localhost:8080/",
          "height": 170
        }
      },
      "source": [
        "df.isnull().sum()"
      ],
      "execution_count": 0,
      "outputs": [
        {
          "output_type": "execute_result",
          "data": {
            "text/plain": [
              "Date             0\n",
              "Region_ID        0\n",
              "Day-Confirmed    0\n",
              "Day-Deaths       0\n",
              "Day-Recovered    0\n",
              "Confirmed        0\n",
              "Deaths           0\n",
              "Recovered        0\n",
              "dtype: int64"
            ]
          },
          "metadata": {
            "tags": []
          },
          "execution_count": 11
        }
      ]
    },
    {
      "cell_type": "markdown",
      "metadata": {
        "id": "xwY8YCE2RYW1",
        "colab_type": "text"
      },
      "source": [
        "Проверим размер набора данных:"
      ]
    },
    {
      "cell_type": "code",
      "metadata": {
        "id": "tXpvVORuRali",
        "colab_type": "code",
        "outputId": "4d859a10-1707-4b95-aae3-5c71927a5513",
        "colab": {
          "base_uri": "https://localhost:8080/",
          "height": 34
        }
      },
      "source": [
        "df.shape"
      ],
      "execution_count": 0,
      "outputs": [
        {
          "output_type": "execute_result",
          "data": {
            "text/plain": [
              "(4498, 8)"
            ]
          },
          "metadata": {
            "tags": []
          },
          "execution_count": 12
        }
      ]
    },
    {
      "cell_type": "markdown",
      "metadata": {
        "id": "QVxZjnu6RciO",
        "colab_type": "text"
      },
      "source": [
        "Проверим основные статистические характеристики набора данных:"
      ]
    },
    {
      "cell_type": "code",
      "metadata": {
        "id": "qHEf6n7CT4PC",
        "colab_type": "code",
        "outputId": "baaeff6a-74b3-4dc4-ca29-bdbf8632575b",
        "colab": {
          "base_uri": "https://localhost:8080/",
          "height": 297
        }
      },
      "source": [
        "df.describe()"
      ],
      "execution_count": 0,
      "outputs": [
        {
          "output_type": "execute_result",
          "data": {
            "text/html": [
              "<div>\n",
              "<style scoped>\n",
              "    .dataframe tbody tr th:only-of-type {\n",
              "        vertical-align: middle;\n",
              "    }\n",
              "\n",
              "    .dataframe tbody tr th {\n",
              "        vertical-align: top;\n",
              "    }\n",
              "\n",
              "    .dataframe thead th {\n",
              "        text-align: right;\n",
              "    }\n",
              "</style>\n",
              "<table border=\"1\" class=\"dataframe\">\n",
              "  <thead>\n",
              "    <tr style=\"text-align: right;\">\n",
              "      <th></th>\n",
              "      <th>Date</th>\n",
              "      <th>Region_ID</th>\n",
              "      <th>Day-Confirmed</th>\n",
              "      <th>Day-Deaths</th>\n",
              "      <th>Day-Recovered</th>\n",
              "      <th>Confirmed</th>\n",
              "      <th>Deaths</th>\n",
              "      <th>Recovered</th>\n",
              "    </tr>\n",
              "  </thead>\n",
              "  <tbody>\n",
              "    <tr>\n",
              "      <th>count</th>\n",
              "      <td>4.498000e+03</td>\n",
              "      <td>4498.000000</td>\n",
              "      <td>4498.000000</td>\n",
              "      <td>4498.000000</td>\n",
              "      <td>4498.000000</td>\n",
              "      <td>4498.000000</td>\n",
              "      <td>4498.000000</td>\n",
              "      <td>4498.000000</td>\n",
              "    </tr>\n",
              "    <tr>\n",
              "      <th>mean</th>\n",
              "      <td>1.590025e+12</td>\n",
              "      <td>44.236105</td>\n",
              "      <td>80.616052</td>\n",
              "      <td>0.848155</td>\n",
              "      <td>29.179191</td>\n",
              "      <td>1654.563139</td>\n",
              "      <td>15.745220</td>\n",
              "      <td>352.179858</td>\n",
              "    </tr>\n",
              "    <tr>\n",
              "      <th>std</th>\n",
              "      <td>6.111935e+09</td>\n",
              "      <td>25.034676</td>\n",
              "      <td>393.074041</td>\n",
              "      <td>5.128834</td>\n",
              "      <td>214.880010</td>\n",
              "      <td>9997.870475</td>\n",
              "      <td>108.936064</td>\n",
              "      <td>2274.627093</td>\n",
              "    </tr>\n",
              "    <tr>\n",
              "      <th>min</th>\n",
              "      <td>1.578096e+12</td>\n",
              "      <td>1.000000</td>\n",
              "      <td>0.000000</td>\n",
              "      <td>0.000000</td>\n",
              "      <td>0.000000</td>\n",
              "      <td>1.000000</td>\n",
              "      <td>0.000000</td>\n",
              "      <td>0.000000</td>\n",
              "    </tr>\n",
              "    <tr>\n",
              "      <th>25%</th>\n",
              "      <td>1.587082e+12</td>\n",
              "      <td>23.000000</td>\n",
              "      <td>5.000000</td>\n",
              "      <td>0.000000</td>\n",
              "      <td>0.000000</td>\n",
              "      <td>57.000000</td>\n",
              "      <td>0.000000</td>\n",
              "      <td>7.000000</td>\n",
              "    </tr>\n",
              "    <tr>\n",
              "      <th>50%</th>\n",
              "      <td>1.588637e+12</td>\n",
              "      <td>44.000000</td>\n",
              "      <td>23.000000</td>\n",
              "      <td>0.000000</td>\n",
              "      <td>3.000000</td>\n",
              "      <td>309.500000</td>\n",
              "      <td>3.000000</td>\n",
              "      <td>46.000000</td>\n",
              "    </tr>\n",
              "    <tr>\n",
              "      <th>75%</th>\n",
              "      <td>1.590365e+12</td>\n",
              "      <td>65.000000</td>\n",
              "      <td>54.000000</td>\n",
              "      <td>0.000000</td>\n",
              "      <td>18.000000</td>\n",
              "      <td>966.000000</td>\n",
              "      <td>8.000000</td>\n",
              "      <td>243.000000</td>\n",
              "    </tr>\n",
              "    <tr>\n",
              "      <th>max</th>\n",
              "      <td>1.607126e+12</td>\n",
              "      <td>95.000000</td>\n",
              "      <td>6703.000000</td>\n",
              "      <td>77.000000</td>\n",
              "      <td>8033.000000</td>\n",
              "      <td>169303.000000</td>\n",
              "      <td>2110.000000</td>\n",
              "      <td>61619.000000</td>\n",
              "    </tr>\n",
              "  </tbody>\n",
              "</table>\n",
              "</div>"
            ],
            "text/plain": [
              "               Date    Region_ID  ...       Deaths     Recovered\n",
              "count  4.498000e+03  4498.000000  ...  4498.000000   4498.000000\n",
              "mean   1.590025e+12    44.236105  ...    15.745220    352.179858\n",
              "std    6.111935e+09    25.034676  ...   108.936064   2274.627093\n",
              "min    1.578096e+12     1.000000  ...     0.000000      0.000000\n",
              "25%    1.587082e+12    23.000000  ...     0.000000      7.000000\n",
              "50%    1.588637e+12    44.000000  ...     3.000000     46.000000\n",
              "75%    1.590365e+12    65.000000  ...     8.000000    243.000000\n",
              "max    1.607126e+12    95.000000  ...  2110.000000  61619.000000\n",
              "\n",
              "[8 rows x 8 columns]"
            ]
          },
          "metadata": {
            "tags": []
          },
          "execution_count": 34
        }
      ]
    },
    {
      "cell_type": "markdown",
      "metadata": {
        "id": "-CMl3hj4Rdmx",
        "colab_type": "text"
      },
      "source": [
        "## Разделение данных"
      ]
    },
    {
      "cell_type": "markdown",
      "metadata": {
        "id": "9DPlRhKVRf1T",
        "colab_type": "text"
      },
      "source": [
        "Разделим данные на целевой столбец и признаки:"
      ]
    },
    {
      "cell_type": "code",
      "metadata": {
        "id": "ns_o9AFtRhk-",
        "colab_type": "code",
        "colab": {}
      },
      "source": [
        "X = df.drop(\"Deaths\", axis=1)\n",
        "y = df[\"Deaths\"]"
      ],
      "execution_count": 0,
      "outputs": []
    },
    {
      "cell_type": "code",
      "metadata": {
        "id": "_iCEy2RpRiQX",
        "colab_type": "code",
        "outputId": "512bf577-eb4f-4c71-ab80-1b552431185f",
        "colab": {
          "base_uri": "https://localhost:8080/",
          "height": 204
        }
      },
      "source": [
        "print(X.head(), \"\\n\")\n",
        "print(y.unique()[1:20])"
      ],
      "execution_count": 0,
      "outputs": [
        {
          "output_type": "stream",
          "text": [
            "           Date  Region_ID  Day-Confirmed  ...  Day-Recovered  Confirmed  Recovered\n",
            "1  1.580429e+12       72.0            1.0  ...            0.0        1.0        0.0\n",
            "2  1.580429e+12       75.0            1.0  ...            0.0        1.0        0.0\n",
            "3  1.606867e+12       72.0            0.0  ...            1.0        1.0        1.0\n",
            "4  1.606867e+12       75.0            0.0  ...            1.0        1.0        1.0\n",
            "5  1.583107e+12       50.0            1.0  ...            0.0        1.0        0.0\n",
            "\n",
            "[5 rows x 7 columns] \n",
            "\n",
            "[ 2.  3.  8.  1. 11. 16. 19. 20. 27. 29. 31. 10. 38. 13.  4. 50. 58. 14.\n",
            " 72.]\n"
          ],
          "name": "stdout"
        }
      ]
    },
    {
      "cell_type": "code",
      "metadata": {
        "id": "vz1x3PQMRjQL",
        "colab_type": "code",
        "outputId": "b7cf3624-dfdc-4ed6-cd06-d0b9cf2d4171",
        "colab": {
          "base_uri": "https://localhost:8080/",
          "height": 51
        }
      },
      "source": [
        "print(X.shape)\n",
        "print(y.shape)"
      ],
      "execution_count": 0,
      "outputs": [
        {
          "output_type": "stream",
          "text": [
            "(4498, 7)\n",
            "(4498,)\n"
          ],
          "name": "stdout"
        }
      ]
    },
    {
      "cell_type": "markdown",
      "metadata": {
        "id": "GYbuaI-YRlOi",
        "colab_type": "text"
      },
      "source": [
        "Предобработка"
      ]
    },
    {
      "cell_type": "code",
      "metadata": {
        "id": "-0_hOHwIRmIG",
        "colab_type": "code",
        "outputId": "9ea46f7c-0ea2-405e-9bbb-954f407fd6b8",
        "colab": {
          "base_uri": "https://localhost:8080/",
          "height": 297
        }
      },
      "source": [
        "columns = X.columns\n",
        "scaler = StandardScaler()\n",
        "X = scaler.fit_transform(X)\n",
        "pd.DataFrame(X, columns=columns).describe()"
      ],
      "execution_count": 0,
      "outputs": [
        {
          "output_type": "execute_result",
          "data": {
            "text/html": [
              "<div>\n",
              "<style scoped>\n",
              "    .dataframe tbody tr th:only-of-type {\n",
              "        vertical-align: middle;\n",
              "    }\n",
              "\n",
              "    .dataframe tbody tr th {\n",
              "        vertical-align: top;\n",
              "    }\n",
              "\n",
              "    .dataframe thead th {\n",
              "        text-align: right;\n",
              "    }\n",
              "</style>\n",
              "<table border=\"1\" class=\"dataframe\">\n",
              "  <thead>\n",
              "    <tr style=\"text-align: right;\">\n",
              "      <th></th>\n",
              "      <th>Date</th>\n",
              "      <th>Region_ID</th>\n",
              "      <th>Day-Confirmed</th>\n",
              "      <th>Day-Deaths</th>\n",
              "      <th>Day-Recovered</th>\n",
              "      <th>Confirmed</th>\n",
              "      <th>Recovered</th>\n",
              "    </tr>\n",
              "  </thead>\n",
              "  <tbody>\n",
              "    <tr>\n",
              "      <th>count</th>\n",
              "      <td>4.498000e+03</td>\n",
              "      <td>4.498000e+03</td>\n",
              "      <td>4.498000e+03</td>\n",
              "      <td>4.498000e+03</td>\n",
              "      <td>4.498000e+03</td>\n",
              "      <td>4.498000e+03</td>\n",
              "      <td>4.498000e+03</td>\n",
              "    </tr>\n",
              "    <tr>\n",
              "      <th>mean</th>\n",
              "      <td>-1.691459e-14</td>\n",
              "      <td>-1.419743e-16</td>\n",
              "      <td>1.330022e-16</td>\n",
              "      <td>3.543828e-15</td>\n",
              "      <td>-4.230350e-16</td>\n",
              "      <td>5.504218e-17</td>\n",
              "      <td>-2.970365e-16</td>\n",
              "    </tr>\n",
              "    <tr>\n",
              "      <th>std</th>\n",
              "      <td>1.000111e+00</td>\n",
              "      <td>1.000111e+00</td>\n",
              "      <td>1.000111e+00</td>\n",
              "      <td>1.000111e+00</td>\n",
              "      <td>1.000111e+00</td>\n",
              "      <td>1.000111e+00</td>\n",
              "      <td>1.000111e+00</td>\n",
              "    </tr>\n",
              "    <tr>\n",
              "      <th>min</th>\n",
              "      <td>-1.951890e+00</td>\n",
              "      <td>-1.727241e+00</td>\n",
              "      <td>-2.051141e-01</td>\n",
              "      <td>-1.653883e-01</td>\n",
              "      <td>-1.358080e-01</td>\n",
              "      <td>-1.654099e-01</td>\n",
              "      <td>-1.548469e-01</td>\n",
              "    </tr>\n",
              "    <tr>\n",
              "      <th>25%</th>\n",
              "      <td>-4.815543e-01</td>\n",
              "      <td>-8.483619e-01</td>\n",
              "      <td>-1.923924e-01</td>\n",
              "      <td>-1.653883e-01</td>\n",
              "      <td>-1.358080e-01</td>\n",
              "      <td>-1.598081e-01</td>\n",
              "      <td>-1.517692e-01</td>\n",
              "    </tr>\n",
              "    <tr>\n",
              "      <th>50%</th>\n",
              "      <td>-2.270731e-01</td>\n",
              "      <td>-9.432165e-03</td>\n",
              "      <td>-1.465944e-01</td>\n",
              "      <td>-1.653883e-01</td>\n",
              "      <td>-1.218452e-01</td>\n",
              "      <td>-1.345499e-01</td>\n",
              "      <td>-1.346216e-01</td>\n",
              "    </tr>\n",
              "    <tr>\n",
              "      <th>75%</th>\n",
              "      <td>5.568388e-02</td>\n",
              "      <td>8.294976e-01</td>\n",
              "      <td>-6.772009e-02</td>\n",
              "      <td>-1.653883e-01</td>\n",
              "      <td>-5.203106e-02</td>\n",
              "      <td>-6.887864e-02</td>\n",
              "      <td>-4.800435e-02</td>\n",
              "    </tr>\n",
              "    <tr>\n",
              "      <th>max</th>\n",
              "      <td>2.798426e+00</td>\n",
              "      <td>2.027969e+00</td>\n",
              "      <td>1.684955e+01</td>\n",
              "      <td>1.484944e+01</td>\n",
              "      <td>3.725200e+01</td>\n",
              "      <td>1.677028e+01</td>\n",
              "      <td>2.693788e+01</td>\n",
              "    </tr>\n",
              "  </tbody>\n",
              "</table>\n",
              "</div>"
            ],
            "text/plain": [
              "               Date     Region_ID  ...     Confirmed     Recovered\n",
              "count  4.498000e+03  4.498000e+03  ...  4.498000e+03  4.498000e+03\n",
              "mean  -1.691459e-14 -1.419743e-16  ...  5.504218e-17 -2.970365e-16\n",
              "std    1.000111e+00  1.000111e+00  ...  1.000111e+00  1.000111e+00\n",
              "min   -1.951890e+00 -1.727241e+00  ... -1.654099e-01 -1.548469e-01\n",
              "25%   -4.815543e-01 -8.483619e-01  ... -1.598081e-01 -1.517692e-01\n",
              "50%   -2.270731e-01 -9.432165e-03  ... -1.345499e-01 -1.346216e-01\n",
              "75%    5.568388e-02  8.294976e-01  ... -6.887864e-02 -4.800435e-02\n",
              "max    2.798426e+00  2.027969e+00  ...  1.677028e+01  2.693788e+01\n",
              "\n",
              "[8 rows x 7 columns]"
            ]
          },
          "metadata": {
            "tags": []
          },
          "execution_count": 16
        }
      ]
    },
    {
      "cell_type": "markdown",
      "metadata": {
        "id": "19pShcjLRo7A",
        "colab_type": "text"
      },
      "source": [
        "Разделение на тренировочную/тестовую выборку"
      ]
    },
    {
      "cell_type": "code",
      "metadata": {
        "id": "x2yp9Tu_Rpsj",
        "colab_type": "code",
        "colab": {}
      },
      "source": [
        "X_train, X_test, y_train, y_test = train_test_split(X, y,\n",
        "                            test_size=0.25, random_state=346705925)"
      ],
      "execution_count": 0,
      "outputs": []
    },
    {
      "cell_type": "code",
      "metadata": {
        "id": "ZU9fxpE1RqWG",
        "colab_type": "code",
        "outputId": "adacfb6b-66a4-440a-fa0d-481c24ddb20b",
        "colab": {
          "base_uri": "https://localhost:8080/",
          "height": 85
        }
      },
      "source": [
        "print(X_train.shape)\n",
        "print(X_test.shape)\n",
        "print(y_train.shape)\n",
        "print(y_test.shape)"
      ],
      "execution_count": 0,
      "outputs": [
        {
          "output_type": "stream",
          "text": [
            "(3373, 7)\n",
            "(1125, 7)\n",
            "(3373,)\n",
            "(1125,)\n"
          ],
          "name": "stdout"
        }
      ]
    },
    {
      "cell_type": "markdown",
      "metadata": {
        "id": "dOPmyF_0Rr3N",
        "colab_type": "text"
      },
      "source": [
        "## Модель ближайших соседей для произвольно заданного гиперпараметра K"
      ]
    },
    {
      "cell_type": "markdown",
      "metadata": {
        "id": "GzTmWNTIRtJv",
        "colab_type": "text"
      },
      "source": [
        "Функция, которая считает метрики построенной модели:"
      ]
    },
    {
      "cell_type": "code",
      "metadata": {
        "id": "eBmQj0_JRtxr",
        "colab_type": "code",
        "colab": {}
      },
      "source": [
        "def test_model(model):\n",
        "    print(\"mean_absolute_error:\",\n",
        "          mean_absolute_error(y_test, model.predict(X_test)))\n",
        "    print(\"median_absolute_error:\",\n",
        "          median_absolute_error(y_test, model.predict(X_test)))\n",
        "    print(\"r2_score:\",\n",
        "          r2_score(y_test, model.predict(X_test)))"
      ],
      "execution_count": 0,
      "outputs": []
    },
    {
      "cell_type": "markdown",
      "metadata": {
        "id": "Sbj-ZSwFRvK6",
        "colab_type": "text"
      },
      "source": [
        "Метод ближайших соседей с гиперпараметром K=8:"
      ]
    },
    {
      "cell_type": "code",
      "metadata": {
        "id": "bMDJklUJRv3M",
        "colab_type": "code",
        "outputId": "be837582-cf2a-4517-d893-c32d0edf2630",
        "colab": {
          "base_uri": "https://localhost:8080/",
          "height": 68
        }
      },
      "source": [
        "reg_8 = KNeighborsRegressor(n_neighbors=8)\n",
        "reg_8.fit(X_train, y_train)"
      ],
      "execution_count": 0,
      "outputs": [
        {
          "output_type": "execute_result",
          "data": {
            "text/plain": [
              "KNeighborsRegressor(algorithm='auto', leaf_size=30, metric='minkowski',\n",
              "                    metric_params=None, n_jobs=None, n_neighbors=8, p=2,\n",
              "                    weights='uniform')"
            ]
          },
          "metadata": {
            "tags": []
          },
          "execution_count": 20
        }
      ]
    },
    {
      "cell_type": "markdown",
      "metadata": {
        "id": "iErsdTVmRww3",
        "colab_type": "text"
      },
      "source": [
        "Метрики построенной модели:"
      ]
    },
    {
      "cell_type": "code",
      "metadata": {
        "id": "pcNySOzeRxwT",
        "colab_type": "code",
        "outputId": "d9eaa73c-d1c3-4a9f-cff8-9498af8adf83",
        "colab": {
          "base_uri": "https://localhost:8080/",
          "height": 68
        }
      },
      "source": [
        "test_model(reg_8)"
      ],
      "execution_count": 0,
      "outputs": [
        {
          "output_type": "stream",
          "text": [
            "mean_absolute_error: 4.476222222222222\n",
            "median_absolute_error: 1.375\n",
            "r2_score: 0.9681805941812701\n"
          ],
          "name": "stdout"
        }
      ]
    },
    {
      "cell_type": "markdown",
      "metadata": {
        "id": "DNPL7ElhR0ia",
        "colab_type": "text"
      },
      "source": [
        "В данном случае модель более-менее состоятельна."
      ]
    },
    {
      "cell_type": "markdown",
      "metadata": {
        "id": "ncY67izXR4lB",
        "colab_type": "text"
      },
      "source": [
        "## Использование кросс-валидации"
      ]
    },
    {
      "cell_type": "markdown",
      "metadata": {
        "id": "K5at8Ys_R5iw",
        "colab_type": "text"
      },
      "source": [
        "Классический K-fold:"
      ]
    },
    {
      "cell_type": "code",
      "metadata": {
        "id": "ZvaUyejlR8l3",
        "colab_type": "code",
        "outputId": "edd2d46e-df26-41a7-8a8d-b85a95d4e0f1",
        "colab": {
          "base_uri": "https://localhost:8080/",
          "height": 68
        }
      },
      "source": [
        "scores = cross_val_score(KNeighborsRegressor(n_neighbors=8), X, y,\n",
        "                         cv=KFold(n_splits=10), scoring=\"r2\")\n",
        "print(scores)\n",
        "print(scores.mean(), \"±\", scores.std())"
      ],
      "execution_count": 0,
      "outputs": [
        {
          "output_type": "stream",
          "text": [
            "[-1.23346497 -1.16064018  0.39373978  0.89800484  0.89490998  0.93320972\n",
            "  0.9833695   0.98393779  0.98549023  0.93877734]\n",
            "0.4617334034900991 ± 0.8460127140273787\n"
          ],
          "name": "stdout"
        }
      ]
    },
    {
      "cell_type": "code",
      "metadata": {
        "id": "IZcd-jH3R9eS",
        "colab_type": "code",
        "outputId": "0f703b88-9e60-4c38-ef3f-18ebf400abc9",
        "colab": {
          "base_uri": "https://localhost:8080/",
          "height": 68
        }
      },
      "source": [
        "scores = cross_val_score(KNeighborsRegressor(n_neighbors=8), X, y,\n",
        "                         cv=RepeatedKFold(n_splits=5, n_repeats=2),\n",
        "                         scoring=\"r2\")\n",
        "print(scores)\n",
        "print(scores.mean(), \"±\", scores.std())"
      ],
      "execution_count": 0,
      "outputs": [
        {
          "output_type": "stream",
          "text": [
            "[0.95831664 0.98896759 0.97655838 0.9791019  0.9956321  0.93504683\n",
            " 0.98792121 0.98974114 0.98176949 0.96618188]\n",
            "0.9759237157645103 ± 0.017360683340612883\n"
          ],
          "name": "stdout"
        }
      ]
    },
    {
      "cell_type": "code",
      "metadata": {
        "id": "EbOvTRvdR-JM",
        "colab_type": "code",
        "outputId": "df920d15-815e-43f0-9c95-2c08c91d3546",
        "colab": {
          "base_uri": "https://localhost:8080/",
          "height": 68
        }
      },
      "source": [
        "scores = cross_val_score(KNeighborsRegressor(n_neighbors=8), X, y,\n",
        "                         cv=ShuffleSplit(n_splits=10), scoring=\"r2\")\n",
        "print(scores)\n",
        "print(scores.mean(), \"±\", scores.std())"
      ],
      "execution_count": 0,
      "outputs": [
        {
          "output_type": "stream",
          "text": [
            "[0.9906155  0.97566016 0.97643205 0.99456111 0.98004888 0.97669361\n",
            " 0.96425757 0.98982402 0.9935453  0.99470175]\n",
            "0.9836339948337299 ± 0.009894980917682168\n"
          ],
          "name": "stdout"
        }
      ]
    },
    {
      "cell_type": "markdown",
      "metadata": {
        "id": "PeDQzbpIR_BA",
        "colab_type": "text"
      },
      "source": [
        "## Подбор гиперпараметра K"
      ]
    },
    {
      "cell_type": "markdown",
      "metadata": {
        "id": "1Mc7Tx9CSACF",
        "colab_type": "text"
      },
      "source": [
        "Генерация массива разных значений K"
      ]
    },
    {
      "cell_type": "code",
      "metadata": {
        "id": "NrrI2MHVSAjw",
        "colab_type": "code",
        "outputId": "0cb2af50-5c94-484e-ff7c-9ee718302fcc",
        "colab": {
          "base_uri": "https://localhost:8080/",
          "height": 51
        }
      },
      "source": [
        "n_range = np.array(range(1, 50, 2))\n",
        "tuned_parameters = [{'n_neighbors': n_range}]\n",
        "n_range"
      ],
      "execution_count": 0,
      "outputs": [
        {
          "output_type": "execute_result",
          "data": {
            "text/plain": [
              "array([ 1,  3,  5,  7,  9, 11, 13, 15, 17, 19, 21, 23, 25, 27, 29, 31, 33,\n",
              "       35, 37, 39, 41, 43, 45, 47, 49])"
            ]
          },
          "metadata": {
            "tags": []
          },
          "execution_count": 25
        }
      ]
    },
    {
      "cell_type": "markdown",
      "metadata": {
        "id": "CWwYJyY_SB_C",
        "colab_type": "text"
      },
      "source": [
        "Подбор параметра:"
      ]
    },
    {
      "cell_type": "code",
      "metadata": {
        "id": "ksL1SUFuSCgn",
        "colab_type": "code",
        "outputId": "5cf6ac98-bc96-4c4d-9b76-bd9946c51a42",
        "colab": {
          "base_uri": "https://localhost:8080/",
          "height": 34
        }
      },
      "source": [
        "gs = GridSearchCV(KNeighborsRegressor(), tuned_parameters,\n",
        "                  cv=ShuffleSplit(n_splits=10), scoring=\"r2\",\n",
        "                  return_train_score=True, n_jobs=-1)\n",
        "gs.fit(X, y)\n",
        "gs.best_params_"
      ],
      "execution_count": 0,
      "outputs": [
        {
          "output_type": "execute_result",
          "data": {
            "text/plain": [
              "{'n_neighbors': 3}"
            ]
          },
          "metadata": {
            "tags": []
          },
          "execution_count": 26
        }
      ]
    },
    {
      "cell_type": "markdown",
      "metadata": {
        "id": "mCzJf6TLSEQW",
        "colab_type": "text"
      },
      "source": [
        "Результаты при разных значения гиперпараметра на тренировочном наборе данных:"
      ]
    },
    {
      "cell_type": "code",
      "metadata": {
        "id": "ddAO2WL6SE6f",
        "colab_type": "code",
        "outputId": "0d07ed10-2e0f-4a37-8ce2-9983a8ecbc4e",
        "colab": {
          "base_uri": "https://localhost:8080/",
          "height": 265
        }
      },
      "source": [
        "plt.plot(n_range, gs.cv_results_[\"mean_train_score\"]);"
      ],
      "execution_count": 0,
      "outputs": [
        {
          "output_type": "display_data",
          "data": {
            "image/png": "[encoded data removed]",
            "text/plain": [
              "<Figure size 432x288 with 1 Axes>"
            ]
          },
          "metadata": {
            "tags": [],
            "image/png": {
              "width": 378,
              "height": 248
            },
            "needs_background": "light"
          }
        }
      ]
    },
    {
      "cell_type": "markdown",
      "metadata": {
        "id": "A0WVDPaOSGpb",
        "colab_type": "text"
      },
      "source": [
        "Очевидно, что для K=1 на тренировочном наборе данных мы находим ровно ту же точку, что и нужно предсказать, и чем больше её соседей мы берём — тем меньше точность."
      ]
    },
    {
      "cell_type": "markdown",
      "metadata": {
        "id": "_NmpsB86SMPF",
        "colab_type": "text"
      },
      "source": [
        "На тестовом наборе:"
      ]
    },
    {
      "cell_type": "code",
      "metadata": {
        "id": "77kxLpIESNdr",
        "colab_type": "code",
        "outputId": "462e0cc5-9b7b-415f-c417-50b566e97feb",
        "colab": {
          "base_uri": "https://localhost:8080/",
          "height": 265
        }
      },
      "source": [
        "plt.plot(n_range, gs.cv_results_[\"mean_test_score\"]);"
      ],
      "execution_count": 0,
      "outputs": [
        {
          "output_type": "display_data",
          "data": {
            "image/png": "[encoded data removed]",
            "text/plain": [
              "<Figure size 432x288 with 1 Axes>"
            ]
          },
          "metadata": {
            "tags": [],
            "image/png": {
              "width": 378,
              "height": 248
            },
            "needs_background": "light"
          }
        }
      ]
    },
    {
      "cell_type": "markdown",
      "metadata": {
        "id": "9XXfHu3sSOrF",
        "colab_type": "text"
      },
      "source": [
        "Сначала увеличение количества соседей увеличивает точность, однако она довольно быстро достигает пика и начинает уменьшаться при дальнейщем увеличении числа соседей."
      ]
    },
    {
      "cell_type": "markdown",
      "metadata": {
        "id": "OlZz2ckOSQML",
        "colab_type": "text"
      },
      "source": [
        "Проверим получившуюся модель:"
      ]
    },
    {
      "cell_type": "code",
      "metadata": {
        "id": "0sXfeDjfSQ28",
        "colab_type": "code",
        "outputId": "a6444b38-a3fd-42d2-d5be-16549aee3767",
        "colab": {
          "base_uri": "https://localhost:8080/",
          "height": 68
        }
      },
      "source": [
        "reg = KNeighborsRegressor(**gs.best_params_)\n",
        "reg.fit(X_train, y_train)\n",
        "test_model(reg)"
      ],
      "execution_count": 0,
      "outputs": [
        {
          "output_type": "stream",
          "text": [
            "mean_absolute_error: 3.2595555555555555\n",
            "median_absolute_error: 1.0\n",
            "r2_score: 0.9901989696273784\n"
          ],
          "name": "stdout"
        }
      ]
    },
    {
      "cell_type": "markdown",
      "metadata": {
        "id": "2r0jwKRuSSAy",
        "colab_type": "text"
      },
      "source": [
        "В целом получили примерно тот же результат. Очевидно, что проблема в том, что данный метод и так показал достаточно хороший результат для данной выборки."
      ]
    },
    {
      "cell_type": "markdown",
      "metadata": {
        "id": "AAUZE4MaSSqe",
        "colab_type": "text"
      },
      "source": [
        "Построим кривую обучения:"
      ]
    },
    {
      "cell_type": "code",
      "metadata": {
        "id": "vxNvsnHUSTOk",
        "colab_type": "code",
        "colab": {}
      },
      "source": [
        "def plot_learning_curve(estimator, title, X, y, ylim=None, cv=None):\n",
        "    train_sizes=np.linspace(.1, 1.0, 5)\n",
        "\n",
        "    plt.figure()\n",
        "    plt.title(title)\n",
        "    if ylim is not None:\n",
        "        plt.ylim(*ylim)\n",
        "    plt.xlabel(\"Training examples\")\n",
        "    plt.ylabel(\"Score\")\n",
        "    train_sizes, train_scores, test_scores = learning_curve(\n",
        "        estimator, X, y, cv=cv, n_jobs=-1, train_sizes=train_sizes)\n",
        "    train_scores_mean = np.mean(train_scores, axis=1)\n",
        "    train_scores_std = np.std(train_scores, axis=1)\n",
        "    test_scores_mean = np.mean(test_scores, axis=1)\n",
        "    test_scores_std = np.std(test_scores, axis=1)\n",
        "    plt.grid()\n",
        "\n",
        "    plt.fill_between(train_sizes, train_scores_mean - train_scores_std,\n",
        "                     train_scores_mean + train_scores_std, alpha=0.1,\n",
        "                     color=\"r\")\n",
        "    plt.fill_between(train_sizes, test_scores_mean - test_scores_std,\n",
        "                     test_scores_mean + test_scores_std, alpha=0.1,\n",
        "                     color=\"g\")\n",
        "    plt.plot(train_sizes, train_scores_mean, 'o-', color=\"r\",\n",
        "             label=\"Training score\")\n",
        "    plt.plot(train_sizes, test_scores_mean, 'o-', color=\"g\",\n",
        "             label=\"Cross-validation score\")\n",
        "\n",
        "    plt.legend(loc=\"best\")\n",
        "    return plt"
      ],
      "execution_count": 0,
      "outputs": []
    },
    {
      "cell_type": "code",
      "metadata": {
        "id": "dxTuJ5f4SUKN",
        "colab_type": "code",
        "outputId": "a4e22767-bd36-413a-eb20-b38c2d674ae5",
        "colab": {
          "base_uri": "https://localhost:8080/",
          "height": 294
        }
      },
      "source": [
        "plot_learning_curve(reg, str(gs.best_params_), X, y,\n",
        "                    cv=ShuffleSplit(n_splits=10));"
      ],
      "execution_count": 0,
      "outputs": [
        {
          "output_type": "display_data",
          "data": {
            "image/png": "[encoded data removed]",
            "text/plain": [
              "<Figure size 432x288 with 1 Axes>"
            ]
          },
          "metadata": {
            "tags": [],
            "image/png": {
              "width": 385,
              "height": 277
            },
            "needs_background": "light"
          }
        }
      ]
    },
    {
      "cell_type": "markdown",
      "metadata": {
        "id": "eebMxGhmSVRg",
        "colab_type": "text"
      },
      "source": [
        "Построим кривую валидации:"
      ]
    },
    {
      "cell_type": "code",
      "metadata": {
        "id": "Kl0TJYjOSV16",
        "colab_type": "code",
        "colab": {}
      },
      "source": [
        "def plot_validation_curve(estimator, title, X, y, \n",
        "                          param_name, param_range, cv, \n",
        "                          scoring=\"accuracy\"):\n",
        "                                                   \n",
        "    train_scores, test_scores = validation_curve(\n",
        "        estimator, X, y, param_name=param_name,\n",
        "        param_range=param_range,\n",
        "        cv=cv, scoring=scoring, n_jobs=-1)\n",
        "    train_scores_mean = np.mean(train_scores, axis=1)\n",
        "    train_scores_std = np.std(train_scores, axis=1)\n",
        "    test_scores_mean = np.mean(test_scores, axis=1)\n",
        "    test_scores_std = np.std(test_scores, axis=1)\n",
        "\n",
        "    plt.title(title)\n",
        "    plt.xlabel(param_name)\n",
        "    plt.ylabel(\"Score\")\n",
        "    plt.ylim(0.0, 1.1)\n",
        "    lw = 2\n",
        "    plt.plot(param_range, train_scores_mean, label=\"Training score\",\n",
        "                 color=\"darkorange\", lw=lw)\n",
        "    plt.fill_between(param_range, train_scores_mean - train_scores_std,\n",
        "                     train_scores_mean + train_scores_std, alpha=0.2,\n",
        "                     color=\"darkorange\", lw=lw)\n",
        "    plt.plot(param_range, test_scores_mean,\n",
        "                 label=\"Cross-validation score\",\n",
        "                 color=\"navy\", lw=lw)\n",
        "    plt.fill_between(param_range, test_scores_mean - test_scores_std,\n",
        "                     test_scores_mean + test_scores_std, alpha=0.2,\n",
        "                     color=\"navy\", lw=lw)\n",
        "    plt.legend(loc=\"best\")\n",
        "    return plt"
      ],
      "execution_count": 0,
      "outputs": []
    },
    {
      "cell_type": "code",
      "metadata": {
        "id": "-EVpcYTwSWqL",
        "colab_type": "code",
        "outputId": "dd4ba88a-f73d-468f-e3c6-d674efeaccd3",
        "colab": {
          "base_uri": "https://localhost:8080/",
          "height": 294
        }
      },
      "source": [
        "plot_validation_curve(KNeighborsRegressor(), \"knn\", X, y, \n",
        "                      param_name=\"n_neighbors\", param_range=n_range, \n",
        "                      cv=ShuffleSplit(n_splits=10), scoring=\"r2\");"
      ],
      "execution_count": 0,
      "outputs": [
        {
          "output_type": "display_data",
          "data": {
            "image/png": "[encoded data removed]",
            "text/plain": [
              "<Figure size 432x288 with 1 Axes>"
            ]
          },
          "metadata": {
            "tags": [],
            "image/png": {
              "width": 385,
              "height": 277
            },
            "needs_background": "light"
          }
        }
      ]
    }
  ]
}